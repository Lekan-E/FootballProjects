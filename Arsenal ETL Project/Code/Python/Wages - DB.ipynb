{
 "cells": [
  {
   "cell_type": "code",
   "execution_count": 1,
   "metadata": {},
   "outputs": [],
   "source": [
    "# Import required libraries\n",
    "from selenium import webdriver\n",
    "from selenium.webdriver.common.by import By\n",
    "from webdriver_manager.chrome import ChromeDriverManager\n",
    "import pandas as pd\n",
    "\n",
    "# Database connector \n",
    "import mysql.connector\n",
    "from mysql.connector import Error"
   ]
  },
  {
   "cell_type": "code",
   "execution_count": 2,
   "metadata": {},
   "outputs": [
    {
     "name": "stdout",
     "output_type": "stream",
     "text": [
      "Successful\n"
     ]
    }
   ],
   "source": [
    "# Connect to the database\n",
    "connection = mysql.connector.connect(\n",
    "    host = 'localhost',\n",
    "    port = 3306,\n",
    "    user = 'root',\n",
    "    password = '#',\n",
    "    database = 'arsenaldb'\n",
    ")\n",
    "\n",
    "# Function to execute a SQL query \n",
    "def execute_query(connection, query):\n",
    "    cursor = connection.cursor()\n",
    "    try:\n",
    "        cursor.execute(query)\n",
    "        connection.commit()\n",
    "        print(\"Successful\")\n",
    "    except Error as err:\n",
    "        print(f\"Error: '{err}'\")\n",
    "\n",
    "# Read and Run Query\n",
    "def read_query(connection, query):\n",
    "    cursor = connection.cursor()\n",
    "    result = None\n",
    "    try:\n",
    "        cursor.execute(query)\n",
    "        result = cursor.fetchall() # Reads data from the database without making any changes to it.\n",
    "        return result\n",
    "    except Error as err:\n",
    "        print(f'Error: \"{err}\"')\n",
    "\n",
    "# Use DB\n",
    "execute_query(connection, \"\"\"USE ArsenalDB\"\"\")"
   ]
  },
  {
   "cell_type": "markdown",
   "metadata": {},
   "source": [
    "Create database table - Wages"
   ]
  },
  {
   "cell_type": "code",
   "execution_count": 141,
   "metadata": {},
   "outputs": [
    {
     "name": "stdout",
     "output_type": "stream",
     "text": [
      "Successful\n",
      "Successful\n"
     ]
    }
   ],
   "source": [
    "# Drop Table\n",
    "execute_query(connection, \"\"\"DROP TABLE IF EXISTS wages\"\"\")\n",
    "\n",
    "# Create Table\n",
    "wages_table = \"\"\"\n",
    "CREATE TABLE wages(\n",
    "    SeasonID INT NOT NULL,\n",
    "    PlayerID INT NOT NULL,\n",
    "    PlayerName VARCHAR(80) NOT NULL,\n",
    "    Wages INT NOT NULL\n",
    ")\n",
    "\"\"\"\n",
    "execute_query(connection, wages_table)"
   ]
  },
  {
   "cell_type": "code",
   "execution_count": 3,
   "metadata": {},
   "outputs": [],
   "source": [
    "# Assign the seasons accordingly\n",
    "season_mapping = {\n",
    "    2023:'2023-2024',\n",
    "    2022:'2022-2023',\n",
    "    2021:'2021-2022',\n",
    "    2020:'2020-2021',\n",
    "    2019:'2019-2020'\n",
    "}\n",
    "\n",
    "# Define a function that takes a season, scrapes the data and stores in 'df_wages' variable accordingly\n",
    "\n",
    "def wages(season):\n",
    "\n",
    "    page_url = f'https://fbref.com/en/squads/18bb7c10/{season}/wages/Arsenal-Wage-Details'\n",
    "\n",
    "    df_wages = pd.read_html(page_url, attrs = {'id':\"wages\"})[0]\n",
    "    \n",
    "    # Filter for neeeded data\n",
    "    df_wages = df_wages.loc[:,['Player','Weekly Wages']]\n",
    "\n",
    "    # Rename Column\n",
    "    df_wages.rename(columns = {'Player' :'PlayerName', 'Weekly Wages':'Wages'}, inplace=True)\n",
    "\n",
    "    # Drop the last row\n",
    "    df_wages.drop(df_wages.tail(1).index, inplace=True)\n",
    "    \n",
    "    # Clean the wages column to remove commas and convert to integer\n",
    "    df_wages['Wages'] = df_wages['Wages'].apply(lambda x: int(x.rsplit(' ', 3)[0].split(' ', 1)[1].replace(\",\", \"\")))\n",
    "\n",
    "    # Add season name\n",
    "    df_wages['SeasonName'] = season\n",
    "\n",
    "    # Update names in wages table to match players table\n",
    "    # Sead Kolašinac\n",
    "    df_wages.loc[df_wages['PlayerName'] == \"Sead Kolašinac\", 'PlayerName'] = \"Sead Kolasinac\"\n",
    "\n",
    "    # Fabio Viera\n",
    "    df_wages.loc[df_wages['PlayerName'] == \"Fabio Vieira\", 'PlayerName'] = \"Fábio Vieira\"\n",
    "\n",
    "    # Timber\n",
    "    df_wages.loc[df_wages['PlayerName'] == \"Jurriën Timber\", 'PlayerName'] = \"Jurrien Timber\"\n",
    "\n",
    "    # Hein\n",
    "    df_wages.loc[df_wages['PlayerName'] == \"Karl Jakob Hein\", 'PlayerName'] = \"Karl Hein\"\n",
    "\n",
    "    return df_wages\n"
   ]
  },
  {
   "cell_type": "code",
   "execution_count": 143,
   "metadata": {},
   "outputs": [],
   "source": [
    "# Enter desired season\n",
    "df_wages_19 = wages(season_mapping[2019])\n",
    "df_wages_20 = wages(season_mapping[2020])\n",
    "df_wages_21 = wages(season_mapping[2021])\n",
    "df_wages_22 = wages(season_mapping[2022])\n",
    "df_wages_23 = wages(season_mapping[2023])\n",
    "\n",
    "dfs_to_concat = [df_wages_19, df_wages_20, df_wages_21, df_wages_22, df_wages_23]\n",
    "df_wages_table = pd.concat(dfs_to_concat, ignore_index=True)"
   ]
  },
  {
   "cell_type": "code",
   "execution_count": 144,
   "metadata": {},
   "outputs": [
    {
     "data": {
      "text/plain": [
       "<bound method NDFrame.describe of                     PlayerName   Wages SeasonName\n",
       "0                   Mesut Özil  350000  2019-2020\n",
       "1    Pierre-Emerick Aubameyang  250000  2019-2020\n",
       "2          Alexandre Lacazette  182115  2019-2020\n",
       "3              Héctor Bellerín  110000  2019-2020\n",
       "4                   David Luiz  100962  2019-2020\n",
       "..                         ...     ...        ...\n",
       "123             Mohamed Elneny   55000  2023-2024\n",
       "124          Takehiro Tomiyasu   55000  2023-2024\n",
       "125               Fabio Vieira   45000  2023-2024\n",
       "126           Emile Smith Rowe   40000  2023-2024\n",
       "127            Karl Jakob Hein   10000  2023-2024\n",
       "\n",
       "[128 rows x 3 columns]>"
      ]
     },
     "execution_count": 144,
     "metadata": {},
     "output_type": "execute_result"
    }
   ],
   "source": [
    "df_wages_table.describe"
   ]
  },
  {
   "cell_type": "markdown",
   "metadata": {},
   "source": [
    "Pull Season and Player ID information from the database"
   ]
  },
  {
   "cell_type": "code",
   "execution_count": 4,
   "metadata": {},
   "outputs": [
    {
     "data": {
      "text/html": [
       "<div>\n",
       "<style scoped>\n",
       "    .dataframe tbody tr th:only-of-type {\n",
       "        vertical-align: middle;\n",
       "    }\n",
       "\n",
       "    .dataframe tbody tr th {\n",
       "        vertical-align: top;\n",
       "    }\n",
       "\n",
       "    .dataframe thead th {\n",
       "        text-align: right;\n",
       "    }\n",
       "</style>\n",
       "<table border=\"1\" class=\"dataframe\">\n",
       "  <thead>\n",
       "    <tr style=\"text-align: right;\">\n",
       "      <th></th>\n",
       "      <th>SeasonID</th>\n",
       "      <th>SeasonName</th>\n",
       "      <th>League</th>\n",
       "    </tr>\n",
       "  </thead>\n",
       "  <tbody>\n",
       "    <tr>\n",
       "      <th>0</th>\n",
       "      <td>1</td>\n",
       "      <td>2019-2020</td>\n",
       "      <td>English Premier League</td>\n",
       "    </tr>\n",
       "    <tr>\n",
       "      <th>1</th>\n",
       "      <td>2</td>\n",
       "      <td>2020-2021</td>\n",
       "      <td>English Premier League</td>\n",
       "    </tr>\n",
       "    <tr>\n",
       "      <th>2</th>\n",
       "      <td>3</td>\n",
       "      <td>2021-2022</td>\n",
       "      <td>English Premier League</td>\n",
       "    </tr>\n",
       "    <tr>\n",
       "      <th>3</th>\n",
       "      <td>4</td>\n",
       "      <td>2022-2023</td>\n",
       "      <td>English Premier League</td>\n",
       "    </tr>\n",
       "    <tr>\n",
       "      <th>4</th>\n",
       "      <td>5</td>\n",
       "      <td>2023-2024</td>\n",
       "      <td>English Premier League</td>\n",
       "    </tr>\n",
       "  </tbody>\n",
       "</table>\n",
       "</div>"
      ],
      "text/plain": [
       "   SeasonID SeasonName                  League\n",
       "0         1  2019-2020  English Premier League\n",
       "1         2  2020-2021  English Premier League\n",
       "2         3  2021-2022  English Premier League\n",
       "3         4  2022-2023  English Premier League\n",
       "4         5  2023-2024  English Premier League"
      ]
     },
     "execution_count": 4,
     "metadata": {},
     "output_type": "execute_result"
    }
   ],
   "source": [
    "# Season\n",
    "season_table = \"\"\"SELECT *FROM season\"\"\"\n",
    "season_result = read_query(connection, season_table)\n",
    "season_columns = ['SeasonID','SeasonName','League']\n",
    "\n",
    "# Convert to pandas dataframe\n",
    "df_season = pd.DataFrame(season_result, columns=season_columns)\n",
    "df_season"
   ]
  },
  {
   "cell_type": "code",
   "execution_count": 5,
   "metadata": {},
   "outputs": [
    {
     "data": {
      "text/plain": [
       "<bound method NDFrame.describe of     PlayerID                 PlayerName NationCode   Nation\n",
       "0          1                 Bernd Leno         de  Germany\n",
       "1          2                 Matt Macey        eng  England\n",
       "2          3  Sokratis Papastathopoulos         gr   Greece\n",
       "3          4           Shkodran Mustafi         de  Germany\n",
       "4          5                Rob Holding        eng  England\n",
       "..       ...                        ...        ...      ...\n",
       "86        87      Nathan Butler-Oyedeji        nan      nan\n",
       "87        88                 David Raya         es    Spain\n",
       "88        89                Kai Havertz         de  Germany\n",
       "89        90             Jurrien Timber        nan      nan\n",
       "90        91                Declan Rice        eng  England\n",
       "\n",
       "[91 rows x 4 columns]>"
      ]
     },
     "execution_count": 5,
     "metadata": {},
     "output_type": "execute_result"
    }
   ],
   "source": [
    "# Players \n",
    "players_table = \"\"\"SELECT * FROM players\"\"\"\n",
    "players_result = read_query(connection, players_table)\n",
    "players_column = ['PlayerID','PlayerName','NationCode','Nation']\n",
    "\n",
    "# Convert to a dataframe\n",
    "df_players = pd.DataFrame(players_result, columns=players_column)\n",
    "df_players.describe"
   ]
  },
  {
   "cell_type": "markdown",
   "metadata": {},
   "source": [
    "### Join all tables (Wages, Season and Players)"
   ]
  },
  {
   "cell_type": "code",
   "execution_count": 148,
   "metadata": {},
   "outputs": [
    {
     "data": {
      "text/plain": [
       "<bound method NDFrame.describe of      SeasonID  PlayerID                 PlayerName   Wages\n",
       "0           1        33                 Mesut Özil  350000\n",
       "1           1        36  Pierre-Emerick Aubameyang  250000\n",
       "2           1        18        Alexandre Lacazette  182115\n",
       "3           1        27            Héctor Bellerín  110000\n",
       "4           1        23                 David Luiz  100962\n",
       "..        ...       ...                        ...     ...\n",
       "123         5        51             Mohamed Elneny   55000\n",
       "124         5        64          Takehiro Tomiyasu   55000\n",
       "125         5        72               Fábio Vieira   45000\n",
       "126         5        15           Emile Smith Rowe   40000\n",
       "127         5        40                  Karl Hein   10000\n",
       "\n",
       "[128 rows x 4 columns]>"
      ]
     },
     "execution_count": 148,
     "metadata": {},
     "output_type": "execute_result"
    }
   ],
   "source": [
    "# SeasonID, PlayerID, PlayerName, Wages\n",
    "df_table = pd.merge(df_wages_table, df_season, on = 'SeasonName', how = 'left')\n",
    "df_full = pd.merge(df_table, df_players, on = 'PlayerName', how = 'left')\n",
    "\n",
    "# Filter to get needed columns\n",
    "df_full = df_full.loc[:,['SeasonID','PlayerID','PlayerName','Wages']]\n",
    "df_full.describe"
   ]
  },
  {
   "cell_type": "markdown",
   "metadata": {},
   "source": [
    "Convert to a dictionary and insert table into database"
   ]
  },
  {
   "cell_type": "code",
   "execution_count": 149,
   "metadata": {},
   "outputs": [
    {
     "data": {
      "text/plain": [
       "'INSERT INTO wages (SeasonID, PlayerID, PlayerName, Wages) VALUES (\"5\", \"40\", \"Karl Hein\", \"10000\")'"
      ]
     },
     "execution_count": 149,
     "metadata": {},
     "output_type": "execute_result"
    }
   ],
   "source": [
    "# Convert to a dictionary\n",
    "dict_wages = df_full.to_dict(orient='index')\n",
    "\n",
    "sql_command = []\n",
    "\n",
    "for i in range(len(dict_wages)):\n",
    "    columns = \", \".join(dict_wages[i].keys())\n",
    "    values = \", \".join(f'\"{value}\"' for value in dict_wages[i].values())\n",
    "\n",
    "    sql_query = f'INSERT INTO wages ({columns}) VALUES ({values})'\n",
    "    sql_command.append(sql_query)\n",
    "\n",
    "sql_command[127]"
   ]
  },
  {
   "cell_type": "code",
   "execution_count": 150,
   "metadata": {},
   "outputs": [
    {
     "name": "stdout",
     "output_type": "stream",
     "text": [
      "Successful\n",
      "Successful\n",
      "Successful\n",
      "Successful\n",
      "Successful\n",
      "Successful\n",
      "Successful\n",
      "Successful\n",
      "Successful\n",
      "Successful\n",
      "Successful\n",
      "Successful\n",
      "Successful\n",
      "Successful\n",
      "Successful\n",
      "Successful\n",
      "Successful\n",
      "Successful\n",
      "Successful\n",
      "Successful\n",
      "Successful\n",
      "Successful\n",
      "Successful\n",
      "Successful\n",
      "Successful\n",
      "Successful\n",
      "Successful\n",
      "Successful\n",
      "Successful\n",
      "Successful\n",
      "Successful\n",
      "Successful\n",
      "Successful\n",
      "Successful\n",
      "Successful\n",
      "Successful\n",
      "Successful\n",
      "Successful\n",
      "Successful\n",
      "Successful\n",
      "Successful\n",
      "Successful\n",
      "Successful\n",
      "Successful\n",
      "Successful\n",
      "Successful\n",
      "Successful\n",
      "Successful\n",
      "Successful\n",
      "Successful\n",
      "Successful\n",
      "Successful\n",
      "Successful\n",
      "Successful\n",
      "Successful\n",
      "Successful\n",
      "Successful\n",
      "Successful\n",
      "Successful\n",
      "Successful\n",
      "Successful\n",
      "Successful\n",
      "Successful\n",
      "Successful\n",
      "Successful\n",
      "Successful\n",
      "Successful\n",
      "Successful\n",
      "Successful\n",
      "Successful\n",
      "Successful\n",
      "Successful\n",
      "Successful\n",
      "Successful\n",
      "Successful\n",
      "Successful\n",
      "Successful\n",
      "Successful\n",
      "Successful\n",
      "Successful\n",
      "Successful\n",
      "Successful\n",
      "Successful\n",
      "Successful\n",
      "Successful\n",
      "Successful\n",
      "Successful\n",
      "Successful\n",
      "Successful\n",
      "Successful\n",
      "Successful\n",
      "Successful\n",
      "Successful\n",
      "Successful\n",
      "Successful\n",
      "Successful\n",
      "Successful\n",
      "Successful\n",
      "Successful\n",
      "Successful\n",
      "Successful\n",
      "Successful\n",
      "Successful\n",
      "Successful\n",
      "Successful\n",
      "Successful\n",
      "Successful\n",
      "Successful\n",
      "Successful\n",
      "Successful\n",
      "Successful\n",
      "Successful\n",
      "Successful\n",
      "Successful\n",
      "Successful\n",
      "Successful\n",
      "Successful\n",
      "Successful\n",
      "Successful\n",
      "Successful\n",
      "Successful\n",
      "Successful\n",
      "Successful\n",
      "Successful\n",
      "Successful\n",
      "Successful\n",
      "Successful\n",
      "Successful\n"
     ]
    }
   ],
   "source": [
    "# Execute the query to insert data into the table\n",
    "for query in sql_command:\n",
    "    try:\n",
    "        execute_query(connection, query)\n",
    "    except Error as err:\n",
    "        print(f\"Error: '{err}'\")"
   ]
  },
  {
   "cell_type": "code",
   "execution_count": 6,
   "metadata": {},
   "outputs": [
    {
     "data": {
      "text/html": [
       "<div>\n",
       "<style scoped>\n",
       "    .dataframe tbody tr th:only-of-type {\n",
       "        vertical-align: middle;\n",
       "    }\n",
       "\n",
       "    .dataframe tbody tr th {\n",
       "        vertical-align: top;\n",
       "    }\n",
       "\n",
       "    .dataframe thead th {\n",
       "        text-align: right;\n",
       "    }\n",
       "</style>\n",
       "<table border=\"1\" class=\"dataframe\">\n",
       "  <thead>\n",
       "    <tr style=\"text-align: right;\">\n",
       "      <th></th>\n",
       "      <th>SeasonID</th>\n",
       "      <th>PlayerID</th>\n",
       "      <th>PlayerName</th>\n",
       "      <th>Wages</th>\n",
       "    </tr>\n",
       "  </thead>\n",
       "  <tbody>\n",
       "    <tr>\n",
       "      <th>0</th>\n",
       "      <td>1</td>\n",
       "      <td>33</td>\n",
       "      <td>Mesut Özil</td>\n",
       "      <td>350000</td>\n",
       "    </tr>\n",
       "    <tr>\n",
       "      <th>1</th>\n",
       "      <td>1</td>\n",
       "      <td>36</td>\n",
       "      <td>Pierre-Emerick Aubameyang</td>\n",
       "      <td>250000</td>\n",
       "    </tr>\n",
       "    <tr>\n",
       "      <th>2</th>\n",
       "      <td>1</td>\n",
       "      <td>18</td>\n",
       "      <td>Alexandre Lacazette</td>\n",
       "      <td>182115</td>\n",
       "    </tr>\n",
       "    <tr>\n",
       "      <th>3</th>\n",
       "      <td>1</td>\n",
       "      <td>27</td>\n",
       "      <td>Héctor Bellerín</td>\n",
       "      <td>110000</td>\n",
       "    </tr>\n",
       "    <tr>\n",
       "      <th>4</th>\n",
       "      <td>1</td>\n",
       "      <td>23</td>\n",
       "      <td>David Luiz</td>\n",
       "      <td>100962</td>\n",
       "    </tr>\n",
       "  </tbody>\n",
       "</table>\n",
       "</div>"
      ],
      "text/plain": [
       "   SeasonID  PlayerID                 PlayerName   Wages\n",
       "0         1        33                 Mesut Özil  350000\n",
       "1         1        36  Pierre-Emerick Aubameyang  250000\n",
       "2         1        18        Alexandre Lacazette  182115\n",
       "3         1        27            Héctor Bellerín  110000\n",
       "4         1        23                 David Luiz  100962"
      ]
     },
     "execution_count": 6,
     "metadata": {},
     "output_type": "execute_result"
    }
   ],
   "source": [
    "# Run Query\n",
    "run_table = \"\"\"SELECT * \n",
    "FROM wages;\"\"\"\n",
    "results = read_query(connection, run_table)\n",
    "\n",
    "# View as dataframe\n",
    "# Convert to pandas dataframe\n",
    "league_columns = ['SeasonID','PlayerID','PlayerName','Wages']\n",
    "df_table = pd.DataFrame(results, columns = league_columns)\n",
    "df_table.head()"
   ]
  },
  {
   "cell_type": "code",
   "execution_count": 7,
   "metadata": {},
   "outputs": [],
   "source": [
    "connection.close()"
   ]
  }
 ],
 "metadata": {
  "kernelspec": {
   "display_name": "Python 3",
   "language": "python",
   "name": "python3"
  },
  "language_info": {
   "codemirror_mode": {
    "name": "ipython",
    "version": 3
   },
   "file_extension": ".py",
   "mimetype": "text/x-python",
   "name": "python",
   "nbconvert_exporter": "python",
   "pygments_lexer": "ipython3",
   "version": "3.12.1"
  }
 },
 "nbformat": 4,
 "nbformat_minor": 2
}
