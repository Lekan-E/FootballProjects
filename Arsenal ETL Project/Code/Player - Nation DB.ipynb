{
 "cells": [
  {
   "cell_type": "code",
   "execution_count": 1,
   "metadata": {},
   "outputs": [],
   "source": [
    "# Import required libraries\n",
    "import requests\n",
    "import re\n",
    "from bs4 import BeautifulSoup\n",
    "import datetime as dt\n",
    "import pandas as pd\n",
    "\n",
    "from selenium import webdriver\n",
    "from selenium.webdriver.common.by import By\n",
    "from webdriver_manager.chrome import ChromeDriverManager\n",
    "\n",
    "# Database connector \n",
    "import mysql.connector\n",
    "from mysql.connector import Error"
   ]
  },
  {
   "cell_type": "markdown",
   "metadata": {},
   "source": [
    "Connect to the database"
   ]
  },
  {
   "cell_type": "code",
   "execution_count": 2,
   "metadata": {},
   "outputs": [
    {
     "name": "stdout",
     "output_type": "stream",
     "text": [
      "Successful\n"
     ]
    }
   ],
   "source": [
    "# Connect to the database\n",
    "connection = mysql.connector.connect(\n",
    "    host = 'localhost',\n",
    "    port = 3306,\n",
    "    user = 'root',\n",
    "    password = '#',\n",
    "    database = 'arsenaldb'\n",
    ")\n",
    "\n",
    "# Function to execute a SQL query \n",
    "def execute_query(connection, query):\n",
    "    cursor = connection.cursor()\n",
    "    try:\n",
    "        cursor.execute(query)\n",
    "        connection.commit()\n",
    "        print(\"Successful\")\n",
    "    except Error as err:\n",
    "        print(f\"Error: '{err}'\")\n",
    "\n",
    "# Read and Run Query\n",
    "def read_query(connection, query):\n",
    "    cursor = connection.cursor()\n",
    "    result = None\n",
    "    try:\n",
    "        cursor.execute(query)\n",
    "        result = cursor.fetchall() # Reads data from the database without making any changes to it.\n",
    "        return result\n",
    "    except Error as err:\n",
    "        print(f'Error: \"{err}\"')\n",
    "\n",
    "# Use DB\n",
    "execute_query(connection, \"\"\"USE ArsenalDB\"\"\")"
   ]
  },
  {
   "cell_type": "markdown",
   "metadata": {},
   "source": [
    "# Create Database Table"
   ]
  },
  {
   "cell_type": "markdown",
   "metadata": {},
   "source": [
    "### Players"
   ]
  },
  {
   "cell_type": "code",
   "execution_count": 61,
   "metadata": {},
   "outputs": [
    {
     "name": "stdout",
     "output_type": "stream",
     "text": [
      "Successful\n",
      "Successful\n"
     ]
    }
   ],
   "source": [
    "# Drop Table\n",
    "execute_query(connection, \"\"\" \n",
    "DROP TABLE IF EXISTS players\n",
    "\"\"\")\n",
    "\n",
    "# Create Table\n",
    "players_table = \"\"\"\n",
    "CREATE TABLE players(\n",
    "\tPlayerID INT NOT NULL PRIMARY KEY UNIQUE KEY AUTO_INCREMENT,\n",
    "    PlayerName VARCHAR(80) NOT NULL,\n",
    "    NationCode VARCHAR(5),\n",
    "    Nation\tVARCHAR(30)\n",
    ")\n",
    "\"\"\"\n",
    "execute_query(connection, players_table)"
   ]
  },
  {
   "cell_type": "markdown",
   "metadata": {},
   "source": [
    "### Nationality"
   ]
  },
  {
   "cell_type": "code",
   "execution_count": 68,
   "metadata": {},
   "outputs": [
    {
     "name": "stdout",
     "output_type": "stream",
     "text": [
      "Successful\n",
      "Successful\n"
     ]
    }
   ],
   "source": [
    "# Drop Table\n",
    "execute_query(connection, \"\"\" \n",
    "DROP TABLE IF EXISTS nationality\n",
    "\"\"\")\n",
    "\n",
    "# Create Table\n",
    "nationality_table = \"\"\"\n",
    "CREATE TABLE nationality(\n",
    "\tNationId INT NOT NULL PRIMARY KEY UNIQUE KEY AUTO_INCREMENT,\n",
    "    Nation\tVARCHAR(30) NOT NULL,\n",
    "    NationCode VARCHAR(5) NOT NULL\n",
    ");\n",
    "\"\"\"\n",
    "execute_query(connection, nationality_table)"
   ]
  },
  {
   "cell_type": "markdown",
   "metadata": {},
   "source": [
    "## Get PLAYERS data"
   ]
  },
  {
   "cell_type": "code",
   "execution_count": 3,
   "metadata": {},
   "outputs": [],
   "source": [
    "# Assign the seasons accordingly\n",
    "season_mapping = {\n",
    "    2023:'2023-2024',\n",
    "    2022:'2022-2023',\n",
    "    2021:'2021-2022',\n",
    "    2020:'2020-2021',\n",
    "    2019:'2019-2020'\n",
    "}\n",
    "\n",
    "def players(season):\n",
    "\n",
    "    # Scrape the data\n",
    "    headers = {\n",
    "    \"User-Agent\" : \"Mozilla/5.0 (Windows NT 10.0; Win64; x64) AppleWebKit/537.36 (KHTML, like Gecko) Chrome/120.0.0.0 Safari/537.36\"\n",
    "    }\n",
    "\n",
    "    url = f'https://www.transfermarkt.com/arsenal-fc/kader/verein/11/plus/0/galerie/0?saison_id={season}'\n",
    "    response = requests.get(url, headers=headers)\n",
    "\n",
    "    soup = BeautifulSoup(response.content, \"html.parser\")\n",
    "\n",
    "    # Player Check 1/2\n",
    "    odd_player = soup.select('table[class=\"items\"] tr[class=\"odd\"]')\n",
    "\n",
    "    a_list = []\n",
    "    for i in range(len(odd_player)):\n",
    "        a_list.append(odd_player[i].text.split('\\n'))\n",
    "\n",
    "    # Remove empty indexes in the list    \n",
    "    odd_list = []\n",
    "    for sublist in a_list:\n",
    "        n_sublist = [value.strip() for value in sublist if value.strip()]\n",
    "        odd_list.append(n_sublist)\n",
    "\n",
    "    # Player Check 2/2\n",
    "    even_player = soup.select('table[class=\"items\"] tr[class=\"even\"]')\n",
    "\n",
    "    b_list = []\n",
    "    for i in range(len(even_player)):\n",
    "        b_list.append(even_player[i].text.split('\\n'))\n",
    "        \n",
    "    even_list = []\n",
    "    for sublist in b_list:\n",
    "        n_sublist = [value.strip() for value in sublist if value.strip()]\n",
    "        even_list.append(n_sublist)\n",
    "\n",
    "    # Join the lists\n",
    "    player_list = odd_list + even_list\n",
    "\n",
    "    \n",
    "    # Convert the list to a pandas dataframe\n",
    "    df_players = pd.DataFrame(player_list)\n",
    "    df_players = df_players.iloc[:,0:3]\n",
    "    df_players.rename(columns = {0:'ShirtNumber',\n",
    "                                1:'PlayerName',\n",
    "                                2:'Position'},\n",
    "                    inplace=True)\n",
    "    \n",
    "    df_players['SeasonName'] = season_mapping[season]\n",
    "    \n",
    "    return df_players\n"
   ]
  },
  {
   "cell_type": "code",
   "execution_count": 11,
   "metadata": {},
   "outputs": [],
   "source": [
    "df_players_19 = players(2019)\n",
    "df_players_20 = players(2020)\n",
    "df_players_21 = players(2021)\n",
    "df_players_22 = players(2022)\n",
    "df_players_23 = players(2023)\n",
    "\n",
    "\n",
    "# Join all the old data together into a table,\n",
    "previous_season = [df_players_19,df_players_20,df_players_21,df_players_22, df_players_23]\n",
    "df_players_table = pd.concat(previous_season, ignore_index=True)"
   ]
  },
  {
   "cell_type": "code",
   "execution_count": 12,
   "metadata": {},
   "outputs": [
    {
     "data": {
      "text/plain": [
       "<bound method NDFrame.describe of     ShirtNumber                 PlayerName            Position season_name\n",
       "0             1                 Bernd Leno          Goalkeeper   2019-2020\n",
       "1            33                 Matt Macey          Goalkeeper   2019-2020\n",
       "2             5  Sokratis Papastathopoulos         Centre-Back   2019-2020\n",
       "3            20           Shkodran Mustafi         Centre-Back   2019-2020\n",
       "4            16                Rob Holding         Centre-Back   2019-2020\n",
       "..          ...                        ...                 ...         ...\n",
       "183           8            Martin Ødegaard  Attacking Midfield   2023-2024\n",
       "184          21               Fábio Vieira  Attacking Midfield   2023-2024\n",
       "185          11         Gabriel Martinelli         Left Winger   2023-2024\n",
       "186           7                Bukayo Saka        Right Winger   2023-2024\n",
       "187           9              Gabriel Jesus      Centre-Forward   2023-2024\n",
       "\n",
       "[188 rows x 4 columns]>"
      ]
     },
     "execution_count": 12,
     "metadata": {},
     "output_type": "execute_result"
    }
   ],
   "source": [
    "df_players_table.describe()"
   ]
  },
  {
   "cell_type": "markdown",
   "metadata": {},
   "source": [
    "Filter data for Players Table - Distinct Player Name"
   ]
  },
  {
   "cell_type": "code",
   "execution_count": 13,
   "metadata": {},
   "outputs": [
    {
     "data": {
      "text/plain": [
       "<bound method NDFrame.describe of                    PlayerName\n",
       "0                  Bernd Leno\n",
       "1                  Matt Macey\n",
       "2   Sokratis Papastathopoulos\n",
       "3            Shkodran Mustafi\n",
       "4                 Rob Holding\n",
       "..                        ...\n",
       "86      Nathan Butler-Oyedeji\n",
       "87                 David Raya\n",
       "88                Kai Havertz\n",
       "89             Jurrien Timber\n",
       "90                Declan Rice\n",
       "\n",
       "[91 rows x 1 columns]>"
      ]
     },
     "execution_count": 13,
     "metadata": {},
     "output_type": "execute_result"
    }
   ],
   "source": [
    "# Filter to keep only PlayerName and drop duplicates\n",
    "df_players = df_players_table.loc[:,['PlayerName']].drop_duplicates(ignore_index=True)\n",
    "df_players.describe"
   ]
  },
  {
   "cell_type": "markdown",
   "metadata": {},
   "source": [
    "## Get Nationality Data"
   ]
  },
  {
   "cell_type": "code",
   "execution_count": 14,
   "metadata": {},
   "outputs": [],
   "source": [
    "# Assign the seasons accordingly\n",
    "season_mapping = {\n",
    "    2023:'2023-2024',\n",
    "    2022:'2022-2023',\n",
    "    2021:'2021-2022',\n",
    "    2020:'2020-2021',\n",
    "    2019:'2019-2020'\n",
    "}\n",
    "\n",
    "# Function takes the season, performs data cleaning and returns nationality\n",
    "def nationality(season):\n",
    "\n",
    "    # Web scrape using Selenium\n",
    "    driver = webdriver.Chrome()\n",
    "\n",
    "    page_url = f\"https://fbref.com/en/squads/18bb7c10/{season}/roster/Arsenal-Roster-Details\"\n",
    "    driver.get(page_url) \n",
    "\n",
    "    name = driver.find_elements(By.CLASS_NAME, 'roster-player-info')\n",
    "\n",
    "    # Clean dataset\n",
    "    name_list = []\n",
    "    for i in range(len(name)):\n",
    "        name_list.append(name[i].text.split('\\n'))\n",
    "    \n",
    "    df_nationality = pd.DataFrame(name_list)\n",
    "\n",
    "    a = df_nationality.iloc[:,3]\n",
    "    df_nations = pd.DataFrame(a)\n",
    "\n",
    "    # Remove duplicates\n",
    "    df_nations = df_nations.drop_duplicates()\n",
    "    df_nations.reset_index(drop=True, inplace=True)\n",
    "\n",
    "    # Rename column\n",
    "    df_nations.rename(columns = {3:'Nationality'}, inplace=True)\n",
    "\n",
    "    return df_nations"
   ]
  },
  {
   "cell_type": "code",
   "execution_count": 16,
   "metadata": {},
   "outputs": [],
   "source": [
    "# Enter desired season\n",
    "df_nationality_19 = nationality(season_mapping[2019])\n",
    "df_nationality_20 = nationality(season_mapping[2020])\n",
    "df_nationality_21 = nationality(season_mapping[2021])\n",
    "df_nationality_22 = nationality(season_mapping[2022])\n",
    "df_nationality_23 = nationality(season_mapping[2023])"
   ]
  },
  {
   "cell_type": "code",
   "execution_count": 17,
   "metadata": {},
   "outputs": [
    {
     "data": {
      "text/plain": [
       "<bound method NDFrame.describe of                      Nationality\n",
       "0      National Team: Germany de\n",
       "1    National Team: Argentina ar\n",
       "2       Citizenship: England eng\n",
       "3       National Team: Brazil br\n",
       "4       National Team: Greece gr\n",
       "..                           ...\n",
       "110     Citizenship: England eng\n",
       "111       Citizenship: Wales wls\n",
       "112     National Team: Norway no\n",
       "113    National Team: Germany de\n",
       "114    National Team: Belgium be\n",
       "\n",
       "[115 rows x 1 columns]>"
      ]
     },
     "execution_count": 17,
     "metadata": {},
     "output_type": "execute_result"
    }
   ],
   "source": [
    "# Join all the old data together into a table,\n",
    "previous_season = [df_nationality_19,df_nationality_20,df_nationality_21,df_nationality_22, df_nationality_23]\n",
    "df_nationality_table = pd.concat(previous_season, ignore_index=True)\n",
    "df_nationality_table.describe"
   ]
  },
  {
   "cell_type": "code",
   "execution_count": 18,
   "metadata": {},
   "outputs": [
    {
     "name": "stderr",
     "output_type": "stream",
     "text": [
      "C:\\Users\\Razak\\AppData\\Local\\Temp\\ipykernel_11636\\555223496.py:6: SettingWithCopyWarning: \n",
      "A value is trying to be set on a copy of a slice from a DataFrame.\n",
      "Try using .loc[row_indexer,col_indexer] = value instead\n",
      "\n",
      "See the caveats in the documentation: https://pandas.pydata.org/pandas-docs/stable/user_guide/indexing.html#returning-a-view-versus-a-copy\n",
      "  df_nationality_table['Nation'] = df_nationality_table['Nationality'].apply(lambda x: x.split(':')[-1].strip().rsplit(' ', 1)[0])\n",
      "C:\\Users\\Razak\\AppData\\Local\\Temp\\ipykernel_11636\\555223496.py:9: SettingWithCopyWarning: \n",
      "A value is trying to be set on a copy of a slice from a DataFrame.\n",
      "Try using .loc[row_indexer,col_indexer] = value instead\n",
      "\n",
      "See the caveats in the documentation: https://pandas.pydata.org/pandas-docs/stable/user_guide/indexing.html#returning-a-view-versus-a-copy\n",
      "  df_nationality_table['NationCode'] = df_nationality_table['Nationality'].apply(lambda x: x.rsplit(' ',1)[-1])\n"
     ]
    },
    {
     "data": {
      "text/plain": [
       "<bound method NDFrame.describe of                     Nation NationCode\n",
       "0                  Germany         de\n",
       "1                Argentina         ar\n",
       "2                  England        eng\n",
       "3                   Brazil         br\n",
       "4                   Greece         gr\n",
       "5   Bosnia and Herzegovina         ba\n",
       "6                    Spain         es\n",
       "7                 Scotland        sct\n",
       "8                 Portugal         pt\n",
       "9              Switzerland         ch\n",
       "10                  France         fr\n",
       "11                 Uruguay         uy\n",
       "12                   Wales        wls\n",
       "13                   Gabon         ga\n",
       "14           Côte d'Ivoire         ci\n",
       "15                 Armenia         am\n",
       "16           United States         us\n",
       "17                 Iceland         is\n",
       "18               Australia         au\n",
       "19                 Estonia         ee\n",
       "20                   Egypt         eg\n",
       "21                   Ghana         gh\n",
       "22                  Norway         no\n",
       "23                   Japan         jp\n",
       "24                 Belgium         be\n",
       "25                  Mexico         mx\n",
       "26             Netherlands         nl\n",
       "27                 Denmark         dk\n",
       "28                 Ukraine         ua\n",
       "29                  Poland         pl\n",
       "30                   Italy         it\n",
       "31                 Romania         ro>"
      ]
     },
     "execution_count": 18,
     "metadata": {},
     "output_type": "execute_result"
    }
   ],
   "source": [
    "# Data Cleaning\n",
    "# Drop rows where Nationality == None\n",
    "df_nationality_table = df_nationality_table[df_nationality_table['Nationality'].notna()]\n",
    "\n",
    "# Iterate to extract just the Country's name\n",
    "df_nationality_table['Nation'] = df_nationality_table['Nationality'].apply(lambda x: x.split(':')[-1].strip().rsplit(' ', 1)[0])\n",
    "\n",
    "# Assign a new column for the nationa code\n",
    "df_nationality_table['NationCode'] = df_nationality_table['Nationality'].apply(lambda x: x.rsplit(' ',1)[-1])\n",
    "\n",
    "# Filter Data\n",
    "df_nationality_table = df_nationality_table.loc[:,['Nation','NationCode']].drop_duplicates(ignore_index=True)\n",
    "\n",
    "# Remove empty rows\n",
    "df_nationality_table.describe"
   ]
  },
  {
   "cell_type": "markdown",
   "metadata": {},
   "source": [
    "Insert into 'nationality table'"
   ]
  },
  {
   "cell_type": "markdown",
   "metadata": {},
   "source": [
    "## Get Wages Data"
   ]
  },
  {
   "cell_type": "markdown",
   "metadata": {},
   "source": [
    "Aim is to get the Player, Nation and the NationCode"
   ]
  },
  {
   "cell_type": "code",
   "execution_count": 19,
   "metadata": {},
   "outputs": [],
   "source": [
    "# Assign the seasons accordingly\n",
    "season_mapping = {\n",
    "    2023:'2023-2024',\n",
    "    2022:'2022-2023',\n",
    "    2021:'2021-2022',\n",
    "    2020:'2020-2021',\n",
    "    2019:'2019-2020'\n",
    "}\n",
    "\n",
    "# Define a function that takes a season, scrapes the data and stores in 'df_wages' variable accordingly\n",
    "\n",
    "def wages(season):\n",
    "\n",
    "    page_url = f'https://fbref.com/en/squads/18bb7c10/{season}/wages/Arsenal-Wage-Details'\n",
    "\n",
    "    df_wages = pd.read_html(page_url, attrs = {'id':\"wages\"})[0]\n",
    "    \n",
    "    # Filter for neeeded data\n",
    "    df_wages = df_wages.loc[:,['Player','Nation']]\n",
    "\n",
    "    # Rename Column\n",
    "    df_wages.rename(columns = {'Player' :'PlayerName'}, inplace=True)\n",
    "\n",
    "    # Drop the last row\n",
    "    df_wages.drop(df_wages.tail(1).index, inplace=True)\n",
    "    \n",
    "    # Assign a new column for the nationa code\n",
    "    df_wages['NationCode'] = df_wages['Nation'].apply(lambda x: x.rsplit(' ',1)[-2])\n",
    "    \n",
    "    # Filter Data\n",
    "    df_wages = df_wages.loc[:,['PlayerName','NationCode']]\n",
    "    \n",
    "    # Remove blank rows\n",
    "    #df_wages = df_wages.drop(df_wages[df_wages['Weekly Wages'].isna()].index)\n",
    "\n",
    "    return df_wages\n"
   ]
  },
  {
   "cell_type": "code",
   "execution_count": 20,
   "metadata": {},
   "outputs": [],
   "source": [
    "# Enter desired season\n",
    "df_wages_19 = wages(season_mapping[2019])\n",
    "df_wages_20 = wages(season_mapping[2020])\n",
    "df_wages_21 = wages(season_mapping[2021])\n",
    "df_wages_22 = wages(season_mapping[2022])\n",
    "df_wages_23 = wages(season_mapping[2023])\n",
    "\n",
    "dfs_to_concat = [df_wages_19, df_wages_20, df_wages_21, df_wages_22, df_wages_23]\n",
    "df_wages_table = pd.concat(dfs_to_concat, ignore_index=True)"
   ]
  },
  {
   "cell_type": "code",
   "execution_count": null,
   "metadata": {},
   "outputs": [],
   "source": [
    "# Data cleaning - Drop duplicates\n",
    "df_wages_table = df_wages_table.drop_duplicates(ignore_index=True)\n",
    "df_wages_table.describe"
   ]
  },
  {
   "cell_type": "markdown",
   "metadata": {},
   "source": [
    "## JOIN tables together"
   ]
  },
  {
   "cell_type": "markdown",
   "metadata": {},
   "source": [
    "Wages - PlayerName, CountryCode\n",
    "Nationality - Country, CountryCode\n",
    "Players - PlayerName"
   ]
  },
  {
   "cell_type": "code",
   "execution_count": 22,
   "metadata": {},
   "outputs": [
    {
     "data": {
      "text/plain": [
       "<bound method NDFrame.describe of                    PlayerName NationCode   Nation\n",
       "0                  Bernd Leno         de  Germany\n",
       "1                  Matt Macey        eng  England\n",
       "2   Sokratis Papastathopoulos         gr   Greece\n",
       "3            Shkodran Mustafi         de  Germany\n",
       "4                 Rob Holding        eng  England\n",
       "..                        ...        ...      ...\n",
       "86      Nathan Butler-Oyedeji        NaN      NaN\n",
       "87                 David Raya         es    Spain\n",
       "88                Kai Havertz         de  Germany\n",
       "89             Jurrien Timber        NaN      NaN\n",
       "90                Declan Rice        eng  England\n",
       "\n",
       "[91 rows x 3 columns]>"
      ]
     },
     "execution_count": 22,
     "metadata": {},
     "output_type": "execute_result"
    }
   ],
   "source": [
    "df_table = pd.merge(df_wages_table, df_nationality_table, on = 'NationCode')\n",
    "df_full = pd.merge(df_table, df_players, on = 'PlayerName', how = 'right')\n",
    "df_full.describe"
   ]
  },
  {
   "cell_type": "code",
   "execution_count": 23,
   "metadata": {},
   "outputs": [
    {
     "data": {
      "text/plain": [
       "{0: {'PlayerName': 'Bernd Leno', 'NationCode': 'de', 'Nation': 'Germany'},\n",
       " 1: {'PlayerName': 'Matt Macey', 'NationCode': 'eng', 'Nation': 'England'},\n",
       " 2: {'PlayerName': 'Sokratis Papastathopoulos',\n",
       "  'NationCode': 'gr',\n",
       "  'Nation': 'Greece'},\n",
       " 3: {'PlayerName': 'Shkodran Mustafi',\n",
       "  'NationCode': 'de',\n",
       "  'Nation': 'Germany'},\n",
       " 4: {'PlayerName': 'Rob Holding', 'NationCode': 'eng', 'Nation': 'England'},\n",
       " 5: {'PlayerName': 'Konstantinos Mavropanos',\n",
       "  'NationCode': 'gr',\n",
       "  'Nation': 'Greece'},\n",
       " 6: {'PlayerName': 'Kieran Tierney',\n",
       "  'NationCode': 'sct',\n",
       "  'Nation': 'Scotland'},\n",
       " 7: {'PlayerName': 'Tolaji Bola', 'NationCode': nan, 'Nation': nan},\n",
       " 8: {'PlayerName': 'Cédric Soares', 'NationCode': 'pt', 'Nation': 'Portugal'},\n",
       " 9: {'PlayerName': 'Granit Xhaka',\n",
       "  'NationCode': 'ch',\n",
       "  'Nation': 'Switzerland'},\n",
       " 10: {'PlayerName': 'Dani Ceballos', 'NationCode': 'es', 'Nation': 'Spain'},\n",
       " 11: {'PlayerName': 'Joe Willock', 'NationCode': 'eng', 'Nation': 'England'},\n",
       " 12: {'PlayerName': 'James Olayinka', 'NationCode': nan, 'Nation': nan},\n",
       " 13: {'PlayerName': 'Ainsley Maitland-Niles',\n",
       "  'NationCode': 'eng',\n",
       "  'Nation': 'England'},\n",
       " 14: {'PlayerName': 'Emile Smith Rowe',\n",
       "  'NationCode': 'eng',\n",
       "  'Nation': 'England'},\n",
       " 15: {'PlayerName': 'Nicolas Pépé',\n",
       "  'NationCode': 'ci',\n",
       "  'Nation': \"Côte d'Ivoire\"},\n",
       " 16: {'PlayerName': 'Reiss Nelson', 'NationCode': 'eng', 'Nation': 'England'},\n",
       " 17: {'PlayerName': 'Alexandre Lacazette',\n",
       "  'NationCode': 'fr',\n",
       "  'Nation': 'France'},\n",
       " 18: {'PlayerName': 'Tyreece John-Jules', 'NationCode': nan, 'Nation': nan},\n",
       " 19: {'PlayerName': 'Emiliano Martínez',\n",
       "  'NationCode': 'ar',\n",
       "  'Nation': 'Argentina'},\n",
       " 20: {'PlayerName': 'Sead Kolasinac', 'NationCode': nan, 'Nation': nan},\n",
       " 21: {'PlayerName': 'Calum Chambers',\n",
       "  'NationCode': 'eng',\n",
       "  'Nation': 'England'},\n",
       " 22: {'PlayerName': 'David Luiz', 'NationCode': 'br', 'Nation': 'Brazil'},\n",
       " 23: {'PlayerName': 'Pablo Marí', 'NationCode': 'es', 'Nation': 'Spain'},\n",
       " 24: {'PlayerName': 'Zechariah Medley', 'NationCode': nan, 'Nation': nan},\n",
       " 25: {'PlayerName': 'Nacho Monreal', 'NationCode': nan, 'Nation': nan},\n",
       " 26: {'PlayerName': 'Héctor Bellerín', 'NationCode': 'es', 'Nation': 'Spain'},\n",
       " 27: {'PlayerName': 'Lucas Torreira', 'NationCode': 'uy', 'Nation': 'Uruguay'},\n",
       " 28: {'PlayerName': 'Mattéo Guendouzi',\n",
       "  'NationCode': 'fr',\n",
       "  'Nation': 'France'},\n",
       " 29: {'PlayerName': 'Henrikh Mkhitaryan', 'NationCode': nan, 'Nation': nan},\n",
       " 30: {'PlayerName': 'Robbie Burton', 'NationCode': nan, 'Nation': nan},\n",
       " 31: {'PlayerName': 'Matt Smith', 'NationCode': nan, 'Nation': nan},\n",
       " 32: {'PlayerName': 'Mesut Özil', 'NationCode': 'de', 'Nation': 'Germany'},\n",
       " 33: {'PlayerName': 'Gabriel Martinelli',\n",
       "  'NationCode': 'br',\n",
       "  'Nation': 'Brazil'},\n",
       " 34: {'PlayerName': 'Bukayo Saka', 'NationCode': 'eng', 'Nation': 'England'},\n",
       " 35: {'PlayerName': 'Pierre-Emerick Aubameyang',\n",
       "  'NationCode': 'ga',\n",
       "  'Nation': 'Gabon'},\n",
       " 36: {'PlayerName': 'Eddie Nketiah', 'NationCode': 'eng', 'Nation': 'England'},\n",
       " 37: {'PlayerName': 'Folarin Balogun',\n",
       "  'NationCode': 'us',\n",
       "  'Nation': 'United States'},\n",
       " 38: {'PlayerName': 'Mathew Ryan', 'NationCode': 'au', 'Nation': 'Australia'},\n",
       " 39: {'PlayerName': 'Karl Hein', 'NationCode': nan, 'Nation': nan},\n",
       " 40: {'PlayerName': 'Dejan Iliev', 'NationCode': nan, 'Nation': nan},\n",
       " 41: {'PlayerName': 'Arthur Okonkwo',\n",
       "  'NationCode': 'eng',\n",
       "  'Nation': 'England'},\n",
       " 42: {'PlayerName': 'William Saliba', 'NationCode': 'fr', 'Nation': 'France'},\n",
       " 43: {'PlayerName': 'Joel López', 'NationCode': nan, 'Nation': nan},\n",
       " 44: {'PlayerName': 'Miguel Azeez', 'NationCode': nan, 'Nation': nan},\n",
       " 45: {'PlayerName': 'Martin Ødegaard', 'NationCode': 'no', 'Nation': 'Norway'},\n",
       " 46: {'PlayerName': 'Rúnar Alex Rúnarsson',\n",
       "  'NationCode': 'is',\n",
       "  'Nation': 'Iceland'},\n",
       " 47: {'PlayerName': 'James Hillson', 'NationCode': nan, 'Nation': nan},\n",
       " 48: {'PlayerName': 'Gabriel Magalhães', 'NationCode': nan, 'Nation': nan},\n",
       " 49: {'PlayerName': 'Thomas Partey', 'NationCode': 'gh', 'Nation': 'Ghana'},\n",
       " 50: {'PlayerName': 'Mohamed Elneny', 'NationCode': 'eg', 'Nation': 'Egypt'},\n",
       " 51: {'PlayerName': 'Ben Cottrell', 'NationCode': nan, 'Nation': nan},\n",
       " 52: {'PlayerName': 'Willian', 'NationCode': 'br', 'Nation': 'Brazil'},\n",
       " 53: {'PlayerName': 'Aaron Ramsdale',\n",
       "  'NationCode': 'eng',\n",
       "  'Nation': 'England'},\n",
       " 54: {'PlayerName': 'Mazeed Ogungbo', 'NationCode': nan, 'Nation': nan},\n",
       " 55: {'PlayerName': 'Ben White', 'NationCode': 'eng', 'Nation': 'England'},\n",
       " 56: {'PlayerName': 'Ryan Alebiosu', 'NationCode': nan, 'Nation': nan},\n",
       " 57: {'PlayerName': 'Charlie Patino', 'NationCode': nan, 'Nation': nan},\n",
       " 58: {'PlayerName': \"Salah-Eddine Oulad M'Hand\",\n",
       "  'NationCode': nan,\n",
       "  'Nation': nan},\n",
       " 59: {'PlayerName': 'Mika Biereth', 'NationCode': nan, 'Nation': nan},\n",
       " 60: {'PlayerName': 'Alex Kirk', 'NationCode': nan, 'Nation': nan},\n",
       " 61: {'PlayerName': 'Zach Awe', 'NationCode': nan, 'Nation': nan},\n",
       " 62: {'PlayerName': 'Nuno Tavares', 'NationCode': 'pt', 'Nation': 'Portugal'},\n",
       " 63: {'PlayerName': 'Takehiro Tomiyasu',\n",
       "  'NationCode': 'jp',\n",
       "  'Nation': 'Japan'},\n",
       " 64: {'PlayerName': 'Zak Swanson', 'NationCode': nan, 'Nation': nan},\n",
       " 65: {'PlayerName': 'Albert Sambi Lokonga',\n",
       "  'NationCode': 'be',\n",
       "  'Nation': 'Belgium'},\n",
       " 66: {'PlayerName': 'Marcelo Flores', 'NationCode': nan, 'Nation': nan},\n",
       " 67: {'PlayerName': 'Omari Hutchinson', 'NationCode': nan, 'Nation': nan},\n",
       " 68: {'PlayerName': 'Jakub Kiwior', 'NationCode': 'pl', 'Nation': 'Poland'},\n",
       " 69: {'PlayerName': 'Bradley Ibrahim', 'NationCode': nan, 'Nation': nan},\n",
       " 70: {'PlayerName': 'Mauro Bandeira', 'NationCode': nan, 'Nation': nan},\n",
       " 71: {'PlayerName': 'Fábio Vieira', 'NationCode': nan, 'Nation': nan},\n",
       " 72: {'PlayerName': 'Charles Sagoe Jr', 'NationCode': nan, 'Nation': nan},\n",
       " 73: {'PlayerName': 'Gabriel Jesus', 'NationCode': 'br', 'Nation': 'Brazil'},\n",
       " 74: {'PlayerName': 'Khayon Edwards', 'NationCode': nan, 'Nation': nan},\n",
       " 75: {'PlayerName': 'Matt Turner',\n",
       "  'NationCode': 'us',\n",
       "  'Nation': 'United States'},\n",
       " 76: {'PlayerName': 'Auston Trusty', 'NationCode': nan, 'Nation': nan},\n",
       " 77: {'PlayerName': 'Oleksandr Zinchenko',\n",
       "  'NationCode': 'ua',\n",
       "  'Nation': 'Ukraine'},\n",
       " 78: {'PlayerName': 'Lino Sousa', 'NationCode': nan, 'Nation': nan},\n",
       " 79: {'PlayerName': 'Reuell Walters', 'NationCode': nan, 'Nation': nan},\n",
       " 80: {'PlayerName': 'Jorginho', 'NationCode': 'it', 'Nation': 'Italy'},\n",
       " 81: {'PlayerName': 'Cătălin Cîrjan', 'NationCode': nan, 'Nation': nan},\n",
       " 82: {'PlayerName': 'Ethan Nwaneri', 'NationCode': nan, 'Nation': nan},\n",
       " 83: {'PlayerName': 'Leandro Trossard',\n",
       "  'NationCode': 'be',\n",
       "  'Nation': 'Belgium'},\n",
       " 84: {'PlayerName': 'Marquinhos', 'NationCode': 'br', 'Nation': 'Brazil'},\n",
       " 85: {'PlayerName': 'Amario Cozier-Duberry', 'NationCode': nan, 'Nation': nan},\n",
       " 86: {'PlayerName': 'Nathan Butler-Oyedeji', 'NationCode': nan, 'Nation': nan},\n",
       " 87: {'PlayerName': 'David Raya', 'NationCode': 'es', 'Nation': 'Spain'},\n",
       " 88: {'PlayerName': 'Kai Havertz', 'NationCode': 'de', 'Nation': 'Germany'},\n",
       " 89: {'PlayerName': 'Jurrien Timber', 'NationCode': nan, 'Nation': nan},\n",
       " 90: {'PlayerName': 'Declan Rice', 'NationCode': 'eng', 'Nation': 'England'}}"
      ]
     },
     "execution_count": 23,
     "metadata": {},
     "output_type": "execute_result"
    }
   ],
   "source": [
    "# Convert to a dictionary\n",
    "dict_players = df_full.to_dict(orient = 'index')\n",
    "dict_players"
   ]
  },
  {
   "cell_type": "markdown",
   "metadata": {},
   "source": [
    "Insert into the database table"
   ]
  },
  {
   "cell_type": "code",
   "execution_count": 58,
   "metadata": {},
   "outputs": [
    {
     "data": {
      "text/plain": [
       "'INSERT INTO players (PlayerName, NationCode, Nation) VALUES (\"Nicolas Pépé\", \"ci\", \"Côte d\\'Ivoire\")'"
      ]
     },
     "execution_count": 58,
     "metadata": {},
     "output_type": "execute_result"
    }
   ],
   "source": [
    "sql_command = []\n",
    "\n",
    "for i in range(len(dict_players)):\n",
    "    columns = \", \".join(dict_players[i].keys())\n",
    "    values = \", \".join(f'\"{value}\"' for value in dict_players[i].values())\n",
    "\n",
    "    sql_query = f'INSERT INTO players ({columns}) VALUES ({values})'\n",
    "    sql_command.append(sql_query)\n",
    "\n",
    "sql_command[15]"
   ]
  },
  {
   "cell_type": "code",
   "execution_count": null,
   "metadata": {},
   "outputs": [],
   "source": [
    "# Execute the query to insert data into the table\n",
    "for query in sql_command:\n",
    "    try:\n",
    "        execute_query(connection, query)\n",
    "    except Error as err:\n",
    "        print(f\"Error: '{err}'\")"
   ]
  },
  {
   "cell_type": "markdown",
   "metadata": {},
   "source": [
    "View Table"
   ]
  },
  {
   "cell_type": "code",
   "execution_count": 64,
   "metadata": {},
   "outputs": [
    {
     "data": {
      "text/html": [
       "<div>\n",
       "<style scoped>\n",
       "    .dataframe tbody tr th:only-of-type {\n",
       "        vertical-align: middle;\n",
       "    }\n",
       "\n",
       "    .dataframe tbody tr th {\n",
       "        vertical-align: top;\n",
       "    }\n",
       "\n",
       "    .dataframe thead th {\n",
       "        text-align: right;\n",
       "    }\n",
       "</style>\n",
       "<table border=\"1\" class=\"dataframe\">\n",
       "  <thead>\n",
       "    <tr style=\"text-align: right;\">\n",
       "      <th></th>\n",
       "      <th>PlayerID</th>\n",
       "      <th>PlayerName</th>\n",
       "      <th>NationCode</th>\n",
       "      <th>Nation</th>\n",
       "    </tr>\n",
       "  </thead>\n",
       "  <tbody>\n",
       "    <tr>\n",
       "      <th>0</th>\n",
       "      <td>1</td>\n",
       "      <td>Bernd Leno</td>\n",
       "      <td>de</td>\n",
       "      <td>Germany</td>\n",
       "    </tr>\n",
       "    <tr>\n",
       "      <th>1</th>\n",
       "      <td>2</td>\n",
       "      <td>Matt Macey</td>\n",
       "      <td>eng</td>\n",
       "      <td>England</td>\n",
       "    </tr>\n",
       "    <tr>\n",
       "      <th>2</th>\n",
       "      <td>3</td>\n",
       "      <td>Sokratis Papastathopoulos</td>\n",
       "      <td>gr</td>\n",
       "      <td>Greece</td>\n",
       "    </tr>\n",
       "    <tr>\n",
       "      <th>3</th>\n",
       "      <td>4</td>\n",
       "      <td>Shkodran Mustafi</td>\n",
       "      <td>de</td>\n",
       "      <td>Germany</td>\n",
       "    </tr>\n",
       "    <tr>\n",
       "      <th>4</th>\n",
       "      <td>5</td>\n",
       "      <td>Rob Holding</td>\n",
       "      <td>eng</td>\n",
       "      <td>England</td>\n",
       "    </tr>\n",
       "    <tr>\n",
       "      <th>...</th>\n",
       "      <td>...</td>\n",
       "      <td>...</td>\n",
       "      <td>...</td>\n",
       "      <td>...</td>\n",
       "    </tr>\n",
       "    <tr>\n",
       "      <th>86</th>\n",
       "      <td>87</td>\n",
       "      <td>Nathan Butler-Oyedeji</td>\n",
       "      <td>nan</td>\n",
       "      <td>nan</td>\n",
       "    </tr>\n",
       "    <tr>\n",
       "      <th>87</th>\n",
       "      <td>88</td>\n",
       "      <td>David Raya</td>\n",
       "      <td>es</td>\n",
       "      <td>Spain</td>\n",
       "    </tr>\n",
       "    <tr>\n",
       "      <th>88</th>\n",
       "      <td>89</td>\n",
       "      <td>Kai Havertz</td>\n",
       "      <td>de</td>\n",
       "      <td>Germany</td>\n",
       "    </tr>\n",
       "    <tr>\n",
       "      <th>89</th>\n",
       "      <td>90</td>\n",
       "      <td>Jurrien Timber</td>\n",
       "      <td>nan</td>\n",
       "      <td>nan</td>\n",
       "    </tr>\n",
       "    <tr>\n",
       "      <th>90</th>\n",
       "      <td>91</td>\n",
       "      <td>Declan Rice</td>\n",
       "      <td>eng</td>\n",
       "      <td>England</td>\n",
       "    </tr>\n",
       "  </tbody>\n",
       "</table>\n",
       "<p>91 rows × 4 columns</p>\n",
       "</div>"
      ],
      "text/plain": [
       "    PlayerID                 PlayerName NationCode   Nation\n",
       "0          1                 Bernd Leno         de  Germany\n",
       "1          2                 Matt Macey        eng  England\n",
       "2          3  Sokratis Papastathopoulos         gr   Greece\n",
       "3          4           Shkodran Mustafi         de  Germany\n",
       "4          5                Rob Holding        eng  England\n",
       "..       ...                        ...        ...      ...\n",
       "86        87      Nathan Butler-Oyedeji        nan      nan\n",
       "87        88                 David Raya         es    Spain\n",
       "88        89                Kai Havertz         de  Germany\n",
       "89        90             Jurrien Timber        nan      nan\n",
       "90        91                Declan Rice        eng  England\n",
       "\n",
       "[91 rows x 4 columns]"
      ]
     },
     "execution_count": 64,
     "metadata": {},
     "output_type": "execute_result"
    }
   ],
   "source": [
    "# Execute the query to insert data into the table\n",
    "for query in sql_command:\n",
    "    try:\n",
    "        execute_query(connection, query)\n",
    "    except Error as err:\n",
    "        print(f\"Error: '{err}'\")"
   ]
  },
  {
   "cell_type": "markdown",
   "metadata": {},
   "source": [
    "Update Database"
   ]
  },
  {
   "cell_type": "code",
   "execution_count": 3,
   "metadata": {},
   "outputs": [
    {
     "name": "stdout",
     "output_type": "stream",
     "text": [
      "Successful\n"
     ]
    }
   ],
   "source": [
    "# Gabriel\n",
    "execute_query(connection, \"\"\"\n",
    "UPDATE players \n",
    "SET PlayerName = 'Gabriel Dos Santos'\n",
    "WHERE PlayerName = 'Gabriel Magalhães';\n",
    "\"\"\")\n"
   ]
  },
  {
   "cell_type": "markdown",
   "metadata": {},
   "source": [
    "Insert into Nationality table"
   ]
  },
  {
   "cell_type": "code",
   "execution_count": 75,
   "metadata": {},
   "outputs": [
    {
     "data": {
      "text/plain": [
       "'INSERT INTO nationality (Nation, NationCode) VALUES (\"Germany\", \"de\")'"
      ]
     },
     "execution_count": 75,
     "metadata": {},
     "output_type": "execute_result"
    }
   ],
   "source": [
    "dict_nationality = df_nationality_table.to_dict(orient='index')\n",
    "\n",
    "sql_command = []\n",
    "\n",
    "for i in range(len(dict_nationality)):\n",
    "    columns = \", \".join(dict_nationality[i].keys())\n",
    "\n",
    "    # Store each value in double quotes\n",
    "    values = \", \".join(f'\"{value}\"' for value in dict_nationality[i].values())\n",
    "    sql_query = f'INSERT INTO nationality ({columns}) VALUES ({values})'\n",
    "    sql_command.append(sql_query)\n",
    "\n",
    "sql_command[0]"
   ]
  },
  {
   "cell_type": "code",
   "execution_count": 76,
   "metadata": {},
   "outputs": [
    {
     "name": "stdout",
     "output_type": "stream",
     "text": [
      "Successful\n",
      "Successful\n",
      "Successful\n",
      "Successful\n",
      "Successful\n",
      "Successful\n",
      "Successful\n",
      "Successful\n",
      "Successful\n",
      "Successful\n",
      "Successful\n",
      "Successful\n",
      "Successful\n",
      "Successful\n",
      "Successful\n",
      "Successful\n",
      "Successful\n",
      "Successful\n",
      "Successful\n",
      "Successful\n",
      "Successful\n",
      "Successful\n",
      "Successful\n",
      "Successful\n",
      "Successful\n",
      "Successful\n",
      "Successful\n",
      "Successful\n",
      "Successful\n",
      "Successful\n",
      "Successful\n",
      "Successful\n"
     ]
    }
   ],
   "source": [
    "# Execute the query to insert data into the table\n",
    "for query in sql_command:\n",
    "    try:\n",
    "        execute_query(connection, query)\n",
    "    except Error as err:\n",
    "        print(f\"Error: '{err}'\")"
   ]
  },
  {
   "cell_type": "code",
   "execution_count": 5,
   "metadata": {},
   "outputs": [
    {
     "data": {
      "text/html": [
       "<div>\n",
       "<style scoped>\n",
       "    .dataframe tbody tr th:only-of-type {\n",
       "        vertical-align: middle;\n",
       "    }\n",
       "\n",
       "    .dataframe tbody tr th {\n",
       "        vertical-align: top;\n",
       "    }\n",
       "\n",
       "    .dataframe thead th {\n",
       "        text-align: right;\n",
       "    }\n",
       "</style>\n",
       "<table border=\"1\" class=\"dataframe\">\n",
       "  <thead>\n",
       "    <tr style=\"text-align: right;\">\n",
       "      <th></th>\n",
       "      <th>NationID</th>\n",
       "      <th>Nation</th>\n",
       "      <th>NationCode</th>\n",
       "    </tr>\n",
       "  </thead>\n",
       "  <tbody>\n",
       "    <tr>\n",
       "      <th>0</th>\n",
       "      <td>1</td>\n",
       "      <td>Germany</td>\n",
       "      <td>de</td>\n",
       "    </tr>\n",
       "    <tr>\n",
       "      <th>1</th>\n",
       "      <td>2</td>\n",
       "      <td>Argentina</td>\n",
       "      <td>ar</td>\n",
       "    </tr>\n",
       "    <tr>\n",
       "      <th>2</th>\n",
       "      <td>3</td>\n",
       "      <td>England</td>\n",
       "      <td>eng</td>\n",
       "    </tr>\n",
       "    <tr>\n",
       "      <th>3</th>\n",
       "      <td>4</td>\n",
       "      <td>Brazil</td>\n",
       "      <td>br</td>\n",
       "    </tr>\n",
       "    <tr>\n",
       "      <th>4</th>\n",
       "      <td>5</td>\n",
       "      <td>Greece</td>\n",
       "      <td>gr</td>\n",
       "    </tr>\n",
       "  </tbody>\n",
       "</table>\n",
       "</div>"
      ],
      "text/plain": [
       "   NationID     Nation NationCode\n",
       "0         1    Germany         de\n",
       "1         2  Argentina         ar\n",
       "2         3    England        eng\n",
       "3         4     Brazil         br\n",
       "4         5     Greece         gr"
      ]
     },
     "execution_count": 5,
     "metadata": {},
     "output_type": "execute_result"
    }
   ],
   "source": [
    "# Run Query\n",
    "run_table = \"\"\"SELECT * \n",
    "FROM nationality;\"\"\"\n",
    "results = read_query(connection, run_table)\n",
    "\n",
    "# View as dataframe\n",
    "# Convert to pandas dataframe\n",
    "league_columns = ['NationID','Nation','NationCode']\n",
    "df_table = pd.DataFrame(results, columns = league_columns)\n",
    "df_table.head()"
   ]
  },
  {
   "cell_type": "code",
   "execution_count": 6,
   "metadata": {},
   "outputs": [
    {
     "data": {
      "text/html": [
       "<div>\n",
       "<style scoped>\n",
       "    .dataframe tbody tr th:only-of-type {\n",
       "        vertical-align: middle;\n",
       "    }\n",
       "\n",
       "    .dataframe tbody tr th {\n",
       "        vertical-align: top;\n",
       "    }\n",
       "\n",
       "    .dataframe thead th {\n",
       "        text-align: right;\n",
       "    }\n",
       "</style>\n",
       "<table border=\"1\" class=\"dataframe\">\n",
       "  <thead>\n",
       "    <tr style=\"text-align: right;\">\n",
       "      <th></th>\n",
       "      <th>PlayerID</th>\n",
       "      <th>PlayerName</th>\n",
       "      <th>NationCode</th>\n",
       "      <th>Nation</th>\n",
       "    </tr>\n",
       "  </thead>\n",
       "  <tbody>\n",
       "    <tr>\n",
       "      <th>0</th>\n",
       "      <td>1</td>\n",
       "      <td>Bernd Leno</td>\n",
       "      <td>de</td>\n",
       "      <td>Germany</td>\n",
       "    </tr>\n",
       "    <tr>\n",
       "      <th>1</th>\n",
       "      <td>2</td>\n",
       "      <td>Matt Macey</td>\n",
       "      <td>eng</td>\n",
       "      <td>England</td>\n",
       "    </tr>\n",
       "    <tr>\n",
       "      <th>2</th>\n",
       "      <td>3</td>\n",
       "      <td>Sokratis Papastathopoulos</td>\n",
       "      <td>gr</td>\n",
       "      <td>Greece</td>\n",
       "    </tr>\n",
       "    <tr>\n",
       "      <th>3</th>\n",
       "      <td>4</td>\n",
       "      <td>Shkodran Mustafi</td>\n",
       "      <td>de</td>\n",
       "      <td>Germany</td>\n",
       "    </tr>\n",
       "    <tr>\n",
       "      <th>4</th>\n",
       "      <td>5</td>\n",
       "      <td>Rob Holding</td>\n",
       "      <td>eng</td>\n",
       "      <td>England</td>\n",
       "    </tr>\n",
       "  </tbody>\n",
       "</table>\n",
       "</div>"
      ],
      "text/plain": [
       "   PlayerID                 PlayerName NationCode   Nation\n",
       "0         1                 Bernd Leno         de  Germany\n",
       "1         2                 Matt Macey        eng  England\n",
       "2         3  Sokratis Papastathopoulos         gr   Greece\n",
       "3         4           Shkodran Mustafi         de  Germany\n",
       "4         5                Rob Holding        eng  England"
      ]
     },
     "execution_count": 6,
     "metadata": {},
     "output_type": "execute_result"
    }
   ],
   "source": [
    "# Run Query\n",
    "run_table = \"\"\"SELECT * \n",
    "FROM players;\"\"\"\n",
    "results = read_query(connection, run_table)\n",
    "\n",
    "# View as dataframe\n",
    "# Convert to pandas dataframe\n",
    "league_columns = ['PlayerID','PlayerName','NationCode','Nation']\n",
    "df_table = pd.DataFrame(results, columns = league_columns)\n",
    "df_table.head()"
   ]
  }
 ],
 "metadata": {
  "kernelspec": {
   "display_name": "Python 3",
   "language": "python",
   "name": "python3"
  },
  "language_info": {
   "codemirror_mode": {
    "name": "ipython",
    "version": 3
   },
   "file_extension": ".py",
   "mimetype": "text/x-python",
   "name": "python",
   "nbconvert_exporter": "python",
   "pygments_lexer": "ipython3",
   "version": "3.12.1"
  }
 },
 "nbformat": 4,
 "nbformat_minor": 2
}
