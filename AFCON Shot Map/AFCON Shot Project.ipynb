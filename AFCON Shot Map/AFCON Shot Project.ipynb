{
 "cells": [
  {
   "cell_type": "markdown",
   "metadata": {},
   "source": [
    "Import Libraries"
   ]
  },
  {
   "cell_type": "code",
   "execution_count": 1,
   "metadata": {},
   "outputs": [],
   "source": [
    "from statsbombpy import sb\n",
    "import pandas as pd"
   ]
  },
  {
   "cell_type": "code",
   "execution_count": 2,
   "metadata": {},
   "outputs": [
    {
     "name": "stderr",
     "output_type": "stream",
     "text": [
      "c:\\Users\\Razak\\AppData\\Local\\Programs\\Python\\Python312\\Lib\\site-packages\\statsbombpy\\api_client.py:21: NoAuthWarning: credentials were not supplied. open data access only\n",
      "  warnings.warn(\n"
     ]
    },
    {
     "data": {
      "text/html": [
       "<div>\n",
       "<style scoped>\n",
       "    .dataframe tbody tr th:only-of-type {\n",
       "        vertical-align: middle;\n",
       "    }\n",
       "\n",
       "    .dataframe tbody tr th {\n",
       "        vertical-align: top;\n",
       "    }\n",
       "\n",
       "    .dataframe thead th {\n",
       "        text-align: right;\n",
       "    }\n",
       "</style>\n",
       "<table border=\"1\" class=\"dataframe\">\n",
       "  <thead>\n",
       "    <tr style=\"text-align: right;\">\n",
       "      <th></th>\n",
       "      <th>competition_id</th>\n",
       "      <th>competition_name</th>\n",
       "      <th>season_id</th>\n",
       "      <th>season_name</th>\n",
       "    </tr>\n",
       "  </thead>\n",
       "  <tbody>\n",
       "    <tr>\n",
       "      <th>0</th>\n",
       "      <td>9</td>\n",
       "      <td>1. Bundesliga</td>\n",
       "      <td>27</td>\n",
       "      <td>2015/2016</td>\n",
       "    </tr>\n",
       "    <tr>\n",
       "      <th>1</th>\n",
       "      <td>1267</td>\n",
       "      <td>African Cup of Nations</td>\n",
       "      <td>107</td>\n",
       "      <td>2023</td>\n",
       "    </tr>\n",
       "    <tr>\n",
       "      <th>2</th>\n",
       "      <td>16</td>\n",
       "      <td>Champions League</td>\n",
       "      <td>4</td>\n",
       "      <td>2018/2019</td>\n",
       "    </tr>\n",
       "    <tr>\n",
       "      <th>3</th>\n",
       "      <td>16</td>\n",
       "      <td>Champions League</td>\n",
       "      <td>1</td>\n",
       "      <td>2017/2018</td>\n",
       "    </tr>\n",
       "    <tr>\n",
       "      <th>4</th>\n",
       "      <td>16</td>\n",
       "      <td>Champions League</td>\n",
       "      <td>2</td>\n",
       "      <td>2016/2017</td>\n",
       "    </tr>\n",
       "  </tbody>\n",
       "</table>\n",
       "</div>"
      ],
      "text/plain": [
       "   competition_id        competition_name  season_id season_name\n",
       "0               9           1. Bundesliga         27   2015/2016\n",
       "1            1267  African Cup of Nations        107        2023\n",
       "2              16        Champions League          4   2018/2019\n",
       "3              16        Champions League          1   2017/2018\n",
       "4              16        Champions League          2   2016/2017"
      ]
     },
     "execution_count": 2,
     "metadata": {},
     "output_type": "execute_result"
    }
   ],
   "source": [
    "# Get competition name and season\n",
    "\n",
    "comps = sb.competitions()\n",
    "comps_season = comps[['competition_id','competition_name','season_id','season_name']]\n",
    "comps_season.head()"
   ]
  },
  {
   "cell_type": "markdown",
   "metadata": {},
   "source": [
    "Get matches, given the competition_id & season_id"
   ]
  },
  {
   "cell_type": "code",
   "execution_count": null,
   "metadata": {},
   "outputs": [],
   "source": [
    "# Get matches\n",
    "df = sb.matches(competition_id=1267, season_id=107)\n",
    "df_fixtures = df[['match_id','home_team','home_score','away_team','away_score']]\n",
    "df_fixtures.head()"
   ]
  },
  {
   "cell_type": "code",
   "execution_count": null,
   "metadata": {},
   "outputs": [],
   "source": [
    "# Get all match_id\n",
    "match_id = df['match_id'].to_list()\n",
    "\n",
    "# Write a loop that fetcches event data for all the matches in our list\n",
    "df_events = []\n",
    "\n",
    "for i in match_id:\n",
    "    m_events = sb.events(i)\n",
    "    m_events['match_id'] = i\n",
    "    df_events.append(m_events)\n",
    "\n",
    "# Join the dataframes into a single one\n",
    "result_df = pd.concat(df_events, ignore_index=True)\n",
    "result_df.columns"
   ]
  },
  {
   "cell_type": "code",
   "execution_count": 16,
   "metadata": {},
   "outputs": [
    {
     "data": {
      "text/html": [
       "<div>\n",
       "<style scoped>\n",
       "    .dataframe tbody tr th:only-of-type {\n",
       "        vertical-align: middle;\n",
       "    }\n",
       "\n",
       "    .dataframe tbody tr th {\n",
       "        vertical-align: top;\n",
       "    }\n",
       "\n",
       "    .dataframe thead th {\n",
       "        text-align: right;\n",
       "    }\n",
       "</style>\n",
       "<table border=\"1\" class=\"dataframe\">\n",
       "  <thead>\n",
       "    <tr style=\"text-align: right;\">\n",
       "      <th></th>\n",
       "      <th>match_id</th>\n",
       "      <th>team</th>\n",
       "      <th>player</th>\n",
       "      <th>id</th>\n",
       "      <th>location</th>\n",
       "      <th>shot_end_location</th>\n",
       "      <th>shot_statsbomb_xg</th>\n",
       "      <th>shot_outcome</th>\n",
       "      <th>shot_body_part</th>\n",
       "      <th>shot_type</th>\n",
       "      <th>minute</th>\n",
       "      <th>type</th>\n",
       "    </tr>\n",
       "  </thead>\n",
       "  <tbody>\n",
       "    <tr>\n",
       "      <th>0</th>\n",
       "      <td>3923881</td>\n",
       "      <td>Nigeria</td>\n",
       "      <td>NaN</td>\n",
       "      <td>ce79fe82-2b3e-4a95-ae21-6892ea7762b9</td>\n",
       "      <td>NaN</td>\n",
       "      <td>NaN</td>\n",
       "      <td>NaN</td>\n",
       "      <td>NaN</td>\n",
       "      <td>NaN</td>\n",
       "      <td>NaN</td>\n",
       "      <td>0</td>\n",
       "      <td>Starting XI</td>\n",
       "    </tr>\n",
       "    <tr>\n",
       "      <th>1</th>\n",
       "      <td>3923881</td>\n",
       "      <td>Côte d'Ivoire</td>\n",
       "      <td>NaN</td>\n",
       "      <td>0fd85800-7ceb-4870-a0e3-92bdd6e49740</td>\n",
       "      <td>NaN</td>\n",
       "      <td>NaN</td>\n",
       "      <td>NaN</td>\n",
       "      <td>NaN</td>\n",
       "      <td>NaN</td>\n",
       "      <td>NaN</td>\n",
       "      <td>0</td>\n",
       "      <td>Starting XI</td>\n",
       "    </tr>\n",
       "  </tbody>\n",
       "</table>\n",
       "</div>"
      ],
      "text/plain": [
       "   match_id           team player                                    id  \\\n",
       "0   3923881        Nigeria    NaN  ce79fe82-2b3e-4a95-ae21-6892ea7762b9   \n",
       "1   3923881  Côte d'Ivoire    NaN  0fd85800-7ceb-4870-a0e3-92bdd6e49740   \n",
       "\n",
       "  location shot_end_location  shot_statsbomb_xg shot_outcome shot_body_part  \\\n",
       "0      NaN               NaN                NaN          NaN            NaN   \n",
       "1      NaN               NaN                NaN          NaN            NaN   \n",
       "\n",
       "  shot_type  minute         type  \n",
       "0       NaN       0  Starting XI  \n",
       "1       NaN       0  Starting XI  "
      ]
     },
     "execution_count": 16,
     "metadata": {},
     "output_type": "execute_result"
    }
   ],
   "source": [
    "# Filter for needed data\n",
    "full_shots_df = result_df[['match_id','team','player','id','location','shot_end_location',\n",
    "'shot_statsbomb_xg','shot_outcome', 'shot_body_part', 'shot_type', 'minute','type']]\n",
    "full_shots_df.head(2)"
   ]
  },
  {
   "cell_type": "markdown",
   "metadata": {},
   "source": [
    "Split location [x,y] and shot_end_location cordinate columns [x,y,z] into seperate columns"
   ]
  },
  {
   "cell_type": "code",
   "execution_count": null,
   "metadata": {},
   "outputs": [],
   "source": [
    "full_shots_df['location'] = full_shots_df['location'].astype(str)\n",
    "full_shots_df['shot_end_location'] = full_shots_df['shot_end_location'].astype(str)\n",
    "\n",
    "full_shots_df[['location_x', 'location_y']] = full_shots_df['location'].str.strip('[]').str.split(', ', expand=True)\n",
    "full_shots_df[['shot_end_location_x', 'shot_end_location_y', 'shot_end_location_z']] = full_shots_df['shot_end_location'].str.strip('[]').str.split(', ', expand=True)"
   ]
  },
  {
   "cell_type": "code",
   "execution_count": 18,
   "metadata": {},
   "outputs": [
    {
     "data": {
      "text/html": [
       "<div>\n",
       "<style scoped>\n",
       "    .dataframe tbody tr th:only-of-type {\n",
       "        vertical-align: middle;\n",
       "    }\n",
       "\n",
       "    .dataframe tbody tr th {\n",
       "        vertical-align: top;\n",
       "    }\n",
       "\n",
       "    .dataframe thead th {\n",
       "        text-align: right;\n",
       "    }\n",
       "</style>\n",
       "<table border=\"1\" class=\"dataframe\">\n",
       "  <thead>\n",
       "    <tr style=\"text-align: right;\">\n",
       "      <th></th>\n",
       "      <th>match_id</th>\n",
       "      <th>team</th>\n",
       "      <th>player</th>\n",
       "      <th>id</th>\n",
       "      <th>location</th>\n",
       "      <th>shot_end_location</th>\n",
       "      <th>shot_statsbomb_xg</th>\n",
       "      <th>shot_outcome</th>\n",
       "      <th>shot_body_part</th>\n",
       "      <th>shot_type</th>\n",
       "      <th>minute</th>\n",
       "      <th>type</th>\n",
       "    </tr>\n",
       "  </thead>\n",
       "  <tbody>\n",
       "    <tr>\n",
       "      <th>0</th>\n",
       "      <td>3923881</td>\n",
       "      <td>Nigeria</td>\n",
       "      <td>NaN</td>\n",
       "      <td>ce79fe82-2b3e-4a95-ae21-6892ea7762b9</td>\n",
       "      <td>NaN</td>\n",
       "      <td>NaN</td>\n",
       "      <td>NaN</td>\n",
       "      <td>NaN</td>\n",
       "      <td>NaN</td>\n",
       "      <td>NaN</td>\n",
       "      <td>0</td>\n",
       "      <td>Starting XI</td>\n",
       "    </tr>\n",
       "    <tr>\n",
       "      <th>1</th>\n",
       "      <td>3923881</td>\n",
       "      <td>Côte d'Ivoire</td>\n",
       "      <td>NaN</td>\n",
       "      <td>0fd85800-7ceb-4870-a0e3-92bdd6e49740</td>\n",
       "      <td>NaN</td>\n",
       "      <td>NaN</td>\n",
       "      <td>NaN</td>\n",
       "      <td>NaN</td>\n",
       "      <td>NaN</td>\n",
       "      <td>NaN</td>\n",
       "      <td>0</td>\n",
       "      <td>Starting XI</td>\n",
       "    </tr>\n",
       "  </tbody>\n",
       "</table>\n",
       "</div>"
      ],
      "text/plain": [
       "   match_id           team player                                    id  \\\n",
       "0   3923881        Nigeria    NaN  ce79fe82-2b3e-4a95-ae21-6892ea7762b9   \n",
       "1   3923881  Côte d'Ivoire    NaN  0fd85800-7ceb-4870-a0e3-92bdd6e49740   \n",
       "\n",
       "  location shot_end_location  shot_statsbomb_xg shot_outcome shot_body_part  \\\n",
       "0      NaN               NaN                NaN          NaN            NaN   \n",
       "1      NaN               NaN                NaN          NaN            NaN   \n",
       "\n",
       "  shot_type  minute         type  \n",
       "0       NaN       0  Starting XI  \n",
       "1       NaN       0  Starting XI  "
      ]
     },
     "execution_count": 18,
     "metadata": {},
     "output_type": "execute_result"
    }
   ],
   "source": [
    "full_shots_df.head(2)"
   ]
  },
  {
   "cell_type": "code",
   "execution_count": 14,
   "metadata": {},
   "outputs": [],
   "source": [
    "# Export to csv\n",
    "full_shots_df.to_csv(\"/Users/Razak/Desktop/AFCON Shot Project/AFCON Shot Project data.csv\", index=False, encoding = 'utf-8-sig')\n",
    "df_fixtures.to_csv(\"/Users/Razak/Desktop/AFCON Shot Project/AFCON Fixtures data.csv\", index=False, encoding = 'utf-8-sig')"
   ]
  }
 ],
 "metadata": {
  "kernelspec": {
   "display_name": "Python 3",
   "language": "python",
   "name": "python3"
  },
  "language_info": {
   "codemirror_mode": {
    "name": "ipython",
    "version": 3
   },
   "file_extension": ".py",
   "mimetype": "text/x-python",
   "name": "python",
   "nbconvert_exporter": "python",
   "pygments_lexer": "ipython3",
   "version": "3.12.1"
  }
 },
 "nbformat": 4,
 "nbformat_minor": 2
}
